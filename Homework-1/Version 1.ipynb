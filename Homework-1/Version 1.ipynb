{
 "cells": [
  {
   "cell_type": "code",
   "execution_count": 131,
   "metadata": {},
   "outputs": [],
   "source": [
    "import pandas as pd\n",
    "import numpy as np\n",
    "import matplotlib.pyplot as plt"
   ]
  },
  {
   "cell_type": "code",
   "execution_count": 132,
   "metadata": {},
   "outputs": [],
   "source": [
    "df = pd.read_csv('W100MTimes.txt', delimiter = '\\t')\n",
    "df.columns = ['year','time']"
   ]
  },
  {
   "cell_type": "code",
   "execution_count": 117,
   "metadata": {},
   "outputs": [],
   "source": [
    "def calculate_J(train, test):  \n",
    "    X_train = train.iloc[ : , :-1].values \n",
    "    y_train = train.iloc[ : , -1:].values\n",
    "    \n",
    "    print(X_train.shape)\n",
    "    print(y_train.shape)\n",
    "    \n",
    "    val_1 = np.ones(shape = y_train.shape) \n",
    "    X_train = np.concatenate((val_1, X_train), 1) #Generating a Design Matrix\n",
    "\n",
    "    A = np.linalg.pinv(np.dot(X_train.T, X_train))\n",
    "    B = np.dot(X_train.T, y_train)\n",
    "    \n",
    "    w = np.dot(A, B) #Calculating weights using Training Data\n",
    "    A = np.dot(X_train, w) - y_train\n",
    "    train_J = (1/len(train))*np.dot(A.T, A)\n",
    "\n",
    "    X_test = test.iloc[:, :-1].values\n",
    "    y_test = test.iloc[ : , -1:].values\n",
    "\n",
    "    val_1 = np.ones(shape = y_test.shape)\n",
    "    X_test = np.concatenate((val_1, X_test), 1) #Generating a Design Matrix\n",
    "    \n",
    "    y_pred = np.dot(X_test, w) #Obtaining the prediction values\n",
    "    A = np.dot(X_test, w) - y_test\n",
    "    test_J = (1/len(test))*np.dot(A.T, A)\n",
    "\n",
    "    return train_J[0][0], test_J[0][0]"
   ]
  },
  {
   "cell_type": "code",
   "execution_count": 100,
   "metadata": {},
   "outputs": [],
   "source": [
    "train_result = pd.DataFrame(columns = [1, 2, 3])\n",
    "test_result = pd.DataFrame(columns = [1, 2, 3])\n",
    "full_result = pd.DataFrame(columns = [1, 2, 3])"
   ]
  },
  {
   "cell_type": "code",
   "execution_count": 101,
   "metadata": {},
   "outputs": [],
   "source": [
    "end = 0\n",
    "k = 1\n",
    "while end < len(df):\n",
    "    start = end\n",
    "    end += 4\n",
    "    test = df.iloc[start:end, : ]\n",
    "    train_1 = df.iloc[:start, : ]\n",
    "    train_2 = df.iloc[end:, : ]\n",
    "    train = pd.DataFrame()\n",
    "    train = train.append(train_1)\n",
    "    train = train.append(train_2)\n",
    "    train_J,test_J = calculate_J(train,test) \n",
    "    train_result.loc['train_'+ str(k), 1] = train_J\n",
    "    test_result.loc['test_'+ str(k), 1] = test_J\n",
    "    \n",
    "    full_result.loc['train_'+ str(k), 1] = train_J\n",
    "    full_result.loc['test_'+ str(k), 1] = test_J\n",
    "    \n",
    "    for i in range(2,4):    \n",
    "        temp_train = train.iloc[:,0:1] ** i\n",
    "        temp_test = test.iloc[:,0:1] ** i\n",
    "        \n",
    "        train.insert(i-1, i, temp_train)\n",
    "        test.insert(i-1, i, temp_test)\n",
    "        \n",
    "        train_J, test_J = calculate_J(train, test)\n",
    "        train_result.loc['train_'+ str(k), i] = train_J\n",
    "        test_result.loc['test_'+ str(k), i] = test_J\n",
    "        \n",
    "        full_result.loc['train_'+ str(k), i] = train_J\n",
    "        full_result.loc['test_'+ str(k), i] = test_J\n",
    "    k+=1"
   ]
  },
  {
   "cell_type": "code",
   "execution_count": 109,
   "metadata": {},
   "outputs": [
    {
     "data": {
      "text/plain": [
       "1    0.042296\n",
       "2    0.033409\n",
       "3    0.037913\n",
       "dtype: float64"
      ]
     },
     "execution_count": 109,
     "metadata": {},
     "output_type": "execute_result"
    }
   ],
   "source": [
    "print(train_result.mean())"
   ]
  },
  {
   "cell_type": "code",
   "execution_count": 123,
   "metadata": {},
   "outputs": [
    {
     "name": "stdout",
     "output_type": "stream",
     "text": [
      "1    0.102790\n",
      "2    0.044385\n",
      "3    1.088312\n",
      "dtype: float64\n"
     ]
    }
   ],
   "source": [
    "print(test_result.mean())"
   ]
  },
  {
   "cell_type": "code",
   "execution_count": 105,
   "metadata": {
    "scrolled": true
   },
   "outputs": [],
   "source": [
    "x = [1,2,3]\n",
    "y_train = train_result.mean()\n",
    "y_test = test_result.mean()"
   ]
  },
  {
   "cell_type": "code",
   "execution_count": 106,
   "metadata": {
    "scrolled": true
   },
   "outputs": [
    {
     "data": {
      "image/png": "[encoded data removed]",
      "text/plain": [
       "<Figure size 432x288 with 1 Axes>"
      ]
     },
     "metadata": {
      "needs_background": "light"
     },
     "output_type": "display_data"
    }
   ],
   "source": [
    "#fig = plt.figure(figsize=(3, 3))\n",
    "fig, ax = plt.subplots()\n",
    "ax.plot(x, y_train,  linestyle='-', marker='o', label='J Train')\n",
    "ax.plot(x, y_test,  linestyle='-', marker='o',  label='J Test')\n",
    "\n",
    "ax.set_title(\"Overview: J Train and Test Data over Models\")\n",
    "ax.set_xlabel('Degree of Model')\n",
    "ax.set_ylabel('J Value')\n",
    "ax.legend()\n",
    "plt.show()"
   ]
  },
  {
   "cell_type": "code",
   "execution_count": 34,
   "metadata": {},
   "outputs": [],
   "source": [
    "full_result.to_excel('Result.xlsx')"
   ]
  },
  {
   "cell_type": "code",
   "execution_count": 113,
   "metadata": {},
   "outputs": [],
   "source": [
    "def calculate_weight(train):  \n",
    "    X_train = train.iloc[ : , :-1].values \n",
    "    y_train = train.iloc[ : , -1:].values\n",
    "\n",
    "    val_1 = np.ones(shape = y_train.shape) \n",
    "    X_train = np.concatenate((val_1, X_train), 1) #Generating a Design Matrix\n",
    "\n",
    "    A = np.linalg.pinv(np.dot(X_train.T, X_train))\n",
    "    B = np.dot(X_train.T, y_train)\n",
    "    \n",
    "    w = np.dot(A, B) #Calculating weights using Training Data\n",
    "    return w"
   ]
  },
  {
   "cell_type": "code",
   "execution_count": 133,
   "metadata": {},
   "outputs": [],
   "source": [
    "temp = df.iloc[:,0:1] ** 2\n",
    "df.insert(1, 'sq', temp)"
   ]
  },
  {
   "cell_type": "code",
   "execution_count": 135,
   "metadata": {},
   "outputs": [
    {
     "name": "stdout",
     "output_type": "stream",
     "text": [
      "[[ 1.30696152e+01]\n",
      " [-4.09219729e-02]\n",
      " [ 1.87027905e-04]]\n"
     ]
    }
   ],
   "source": [
    "print(calculate_weight(df))"
   ]
  },
  {
   "cell_type": "code",
   "execution_count": 120,
   "metadata": {},
   "outputs": [],
   "source": [
    "full_result.to_excel('Final Result.xlsx')"
   ]
  }
 ],
 "metadata": {
  "kernelspec": {
   "display_name": "Python 3",
   "language": "python",
   "name": "python3"
  },
  "language_info": {
   "codemirror_mode": {
    "name": "ipython",
    "version": 3
   },
   "file_extension": ".py",
   "mimetype": "text/x-python",
   "name": "python",
   "nbconvert_exporter": "python",
   "pygments_lexer": "ipython3",
   "version": "3.8.3"
  }
 },
 "nbformat": 4,
 "nbformat_minor": 4
}
