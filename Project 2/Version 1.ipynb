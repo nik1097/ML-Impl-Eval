{
 "cells": [
  {
   "cell_type": "markdown",
   "metadata": {},
   "source": [
    "## Housing Data Prediction\n",
    "\n",
    "### Dataset\n",
    "The housing data has been divided into Train and Test Data as per the requirement stated in the project description.\n",
    "We have 16,353 rows of training data and 4,080 test data.\n",
    "\n",
    "Features Considered or Independent Variables: 'housing_median_age', 'total_rooms', 'total_bedrooms', 'population', 'households', 'median_income'\n",
    "Independent Variable: 'median_house_value'"
   ]
  },
  {
   "cell_type": "code",
   "execution_count": 1,
   "metadata": {},
   "outputs": [
    {
     "name": "stdout",
     "output_type": "stream",
     "text": [
      "Enter the name of the Training File: Train Data.csv\n",
      "Enter the name of the Test File: Test Data.csv\n",
      "\n",
      "Weights: \n",
      " [[1266.585301]\n",
      " [-15.660532]\n",
      " [60.914578]\n",
      " [-39.720625]\n",
      " [143.233104]\n",
      " [42342.528617]]\n",
      "\n",
      "Overall Training error (J):  5838029633.515097\n",
      "Overall Testing error (J):  6172360841.711153\n",
      "\n",
      "      Predicted Value  Actual Value\n",
      "0       145715.075221      165600.0\n",
      "1       167831.608931      126100.0\n",
      "2       130486.784080       94400.0\n",
      "3       143636.672730       91900.0\n",
      "4       153965.623084      124300.0\n",
      "...               ...           ...\n",
      "4075    108141.942292       78100.0\n",
      "4076    131469.739737       77100.0\n",
      "4077    109780.244260       92300.0\n",
      "4078    118201.347570       84700.0\n",
      "4079    136134.564948       89400.0\n",
      "\n",
      "[4080 rows x 2 columns]\n"
     ]
    }
   ],
   "source": [
    "import pandas as pd\n",
    "import numpy as np\n",
    "\n",
    "def calculate_metrics(X, y):\n",
    "    A = np.linalg.pinv(np.dot(X.T, X))\n",
    "    B = np.dot(X.T, y)\n",
    "    return A,B\n",
    "\n",
    "np.set_printoptions(formatter={'float_kind':'{:f}'.format})\n",
    "\n",
    "while True:\n",
    "    try:\n",
    "        filename = input('Enter the name of the Training File: ')\n",
    "        train = pd.read_csv(filename)\n",
    "        train = train.dropna()\n",
    "        train = train.iloc[ : , 2:-1]\n",
    "        filename = input('Enter the name of the Test File: ')\n",
    "        test = pd.read_csv(filename)\n",
    "        test = test.dropna()\n",
    "        test = test.iloc[ : , 2:-1]\n",
    "        break\n",
    "    except FileNotFoundError:\n",
    "        print('File is not found')\n",
    "    \n",
    "X_train = train.iloc[ : , :-1].values\n",
    "y_train = train[['median_house_value']].values\n",
    "A, B =  calculate_metrics(X_train, y_train)\n",
    "w = np.dot(A, B)\n",
    "A = np.dot(X_train, w) - y_train\n",
    "J = (1/len(train))*np.dot(A.T, A)\n",
    "print()\n",
    "\n",
    "print(\"Weights: \\n\", w)\n",
    "print()\n",
    "\n",
    "print(\"Overall Training error (J): \" ,float(J))\n",
    "\n",
    "X_test = test.iloc[:, :-1].values\n",
    "y_test = test[['median_house_value']].values\n",
    "y_pred = np.dot(X_test, w)\n",
    "A = np.dot(X_test, w) - y_test\n",
    "J = (1/len(test))*np.dot(A.T, A)\n",
    "print(\"Overall Testing error (J): \" ,float(J))\n",
    "\n",
    "y_pred = y_pred.astype(float)\n",
    "result = pd.DataFrame(y_pred, columns=['Predicted Value'])\n",
    "result['Actual Value'] = y_test\n",
    "result.to_csv('Result.csv', index = False)\n",
    "print()\n",
    "print(result)"
   ]
  },
  {
   "cell_type": "code",
   "execution_count": null,
   "metadata": {},
   "outputs": [],
   "source": []
  }
 ],
 "metadata": {
  "kernelspec": {
   "display_name": "Python 3",
   "language": "python",
   "name": "python3"
  },
  "language_info": {
   "codemirror_mode": {
    "name": "ipython",
    "version": 3
   },
   "file_extension": ".py",
   "mimetype": "text/x-python",
   "name": "python",
   "nbconvert_exporter": "python",
   "pygments_lexer": "ipython3",
   "version": "3.8.3"
  }
 },
 "nbformat": 4,
 "nbformat_minor": 4
}
