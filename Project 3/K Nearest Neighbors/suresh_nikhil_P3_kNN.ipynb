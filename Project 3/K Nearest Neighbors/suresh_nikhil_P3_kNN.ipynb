{
 "cells": [
  {
   "cell_type": "markdown",
   "metadata": {},
   "source": [
    "## K Nearest Neighbors"
   ]
  },
  {
   "cell_type": "code",
   "execution_count": 21,
   "metadata": {},
   "outputs": [],
   "source": [
    "import numpy as np\n",
    "import pandas as pd\n",
    "import matplotlib.pyplot as plt\n",
    "from matplotlib.lines import Line2D"
   ]
  },
  {
   "cell_type": "code",
   "execution_count": 22,
   "metadata": {},
   "outputs": [],
   "source": [
    "filename = input('Enter the name of the Training File: ')\n",
    "train = pd.read_csv(filename, sep = '\\t', skiprows=1, names = ['Test1', 'Test2', 'Value','Random'])\n",
    "train = train[['Test1', 'Test2', 'Value']]"
   ]
  },
  {
   "cell_type": "code",
   "execution_count": 23,
   "metadata": {},
   "outputs": [],
   "source": [
    "filename = input('Enter the name of the Testing File: ')\n",
    "test = pd.read_csv(filename, sep = '\\t', skiprows=1, names = ['Test1', 'Test2', 'Value','Random'])\n",
    "test = test[['Test1', 'Test2', 'Value']]"
   ]
  },
  {
   "cell_type": "code",
   "execution_count": 24,
   "metadata": {},
   "outputs": [],
   "source": [
    "temp = pd.DataFrame()\n",
    "temp = temp.append(train)\n",
    "temp = temp.append(test)"
   ]
  },
  {
   "cell_type": "code",
   "execution_count": 25,
   "metadata": {},
   "outputs": [
    {
     "data": {
      "image/png": "[encoded data removed]",
      "text/plain": [
       "<Figure size 576x288 with 1 Axes>"
      ]
     },
     "metadata": {
      "needs_background": "light"
     },
     "output_type": "display_data"
    }
   ],
   "source": [
    "fig, ax = plt.subplots(figsize=(8,4))\n",
    "\n",
    "ax.scatter(temp[temp['Value'] == 1.0].iloc[:,0], temp[temp['Value'] == 1.0].iloc[:,1], color='green')\n",
    "ax.scatter(temp[temp['Value'] == 0.0].iloc[:,0], temp[temp['Value'] == 0.0].iloc[:,1], color='blue')\n",
    "legend_elements = [Line2D([0], [0], marker='o', color='w', markerfacecolor='g', label='Pass QC', markersize=10),\n",
    "           Line2D([0], [0], marker='o', color='w', markerfacecolor='b', label='Fail QC', markersize=10)]\n",
    "plt.legend(handles=legend_elements)\n",
    "plt.title('Capcitors')\n",
    "fig.tight_layout()"
   ]
  },
  {
   "cell_type": "code",
   "execution_count": 26,
   "metadata": {},
   "outputs": [],
   "source": [
    "def eucledian_distance(p, q):\n",
    "    return np.sqrt((p[0] - q[0]) ** 2 + (p[1] - q[1]) ** 2)"
   ]
  },
  {
   "cell_type": "code",
   "execution_count": 27,
   "metadata": {},
   "outputs": [],
   "source": [
    "def KNearestNeighbors(train, test, k):\n",
    "    result = []\n",
    "    for test_index, test_row in test.iterrows():\n",
    "        p = (test_row['Test1'], test_row['Test2'])\n",
    "        ind = 0 #Ensures 2 same points at the same distance are recognised too\n",
    "        distances = {}\n",
    "        for train_index, train_row in train.iterrows():\n",
    "            q = (train_row['Test1'], train_row['Test2'])\n",
    "            distances[(ind, q, train_row['Value'])] = eucledian_distance(p, q)\n",
    "            ind+=1\n",
    "        temp = sorted(distances.items(), key=lambda x: x[1])[0:k]\n",
    "\n",
    "        nearest_neighbor = {}\n",
    "        for i in temp:\n",
    "            if i[0][2] in nearest_neighbor:\n",
    "                nearest_neighbor[i[0][2]] +=1\n",
    "            else:\n",
    "                nearest_neighbor[i[0][2]] = 1\n",
    "        result.append(max(nearest_neighbor.items(), key=lambda x: x[1])[0])\n",
    "    return result"
   ]
  },
  {
   "cell_type": "code",
   "execution_count": 28,
   "metadata": {},
   "outputs": [],
   "source": [
    "def Kfold(train):\n",
    "    end = 0\n",
    "    kfold = 1\n",
    "    k = list(range(1, 24, 2))\n",
    "    final_result = pd.DataFrame(columns = k)\n",
    "    while end < len(train):\n",
    "        start = end\n",
    "        end += 17\n",
    "        k_test = train.iloc[start:end, : ]\n",
    "        train_1 = train.iloc[:start, : ]\n",
    "        train_2 = train.iloc[end:, : ]\n",
    "        k_train = pd.DataFrame()\n",
    "        k_train = k_train.append(train_1)\n",
    "        k_train = k_train.append(train_2)\n",
    "\n",
    "        for i in k:\n",
    "            result = KNearestNeighbors(k_train, k_test, i)\n",
    "            k_test['Predicted'] = result\n",
    "            misclassify = len(k_test[k_test['Value'] != k_test['Predicted']])\n",
    "            final_result.loc['Val_'+ str(kfold) +'_Errors', i] = misclassify\n",
    "        \n",
    "        kfold += 1\n",
    "    \n",
    "    return final_result"
   ]
  },
  {
   "cell_type": "code",
   "execution_count": 29,
   "metadata": {},
   "outputs": [
    {
     "name": "stderr",
     "output_type": "stream",
     "text": [
      "<ipython-input-28-21d42e4251c4>:18: SettingWithCopyWarning: \n",
      "A value is trying to be set on a copy of a slice from a DataFrame.\n",
      "Try using .loc[row_indexer,col_indexer] = value instead\n",
      "\n",
      "See the caveats in the documentation: https://pandas.pydata.org/pandas-docs/stable/user_guide/indexing.html#returning-a-view-versus-a-copy\n",
      "  k_test['Predicted'] = result\n"
     ]
    }
   ],
   "source": [
    "res = Kfold(train)"
   ]
  },
  {
   "cell_type": "code",
   "execution_count": 30,
   "metadata": {},
   "outputs": [],
   "source": [
    "res.loc['Total_Errors'] = res.sum(axis = 0)"
   ]
  },
  {
   "cell_type": "code",
   "execution_count": 31,
   "metadata": {},
   "outputs": [
    {
     "data": {
      "text/html": [
       "<div>\n",
       "<style scoped>\n",
       "    .dataframe tbody tr th:only-of-type {\n",
       "        vertical-align: middle;\n",
       "    }\n",
       "\n",
       "    .dataframe tbody tr th {\n",
       "        vertical-align: top;\n",
       "    }\n",
       "\n",
       "    .dataframe thead th {\n",
       "        text-align: right;\n",
       "    }\n",
       "</style>\n",
       "<table border=\"1\" class=\"dataframe\">\n",
       "  <thead>\n",
       "    <tr style=\"text-align: right;\">\n",
       "      <th></th>\n",
       "      <th>1</th>\n",
       "      <th>3</th>\n",
       "      <th>5</th>\n",
       "      <th>7</th>\n",
       "      <th>9</th>\n",
       "      <th>11</th>\n",
       "      <th>13</th>\n",
       "      <th>15</th>\n",
       "      <th>17</th>\n",
       "      <th>19</th>\n",
       "      <th>21</th>\n",
       "      <th>23</th>\n",
       "    </tr>\n",
       "  </thead>\n",
       "  <tbody>\n",
       "    <tr>\n",
       "      <th>Val_1_Errors</th>\n",
       "      <td>8</td>\n",
       "      <td>6</td>\n",
       "      <td>4</td>\n",
       "      <td>4</td>\n",
       "      <td>5</td>\n",
       "      <td>5</td>\n",
       "      <td>6</td>\n",
       "      <td>7</td>\n",
       "      <td>6</td>\n",
       "      <td>6</td>\n",
       "      <td>8</td>\n",
       "      <td>8</td>\n",
       "    </tr>\n",
       "    <tr>\n",
       "      <th>Val_2_Errors</th>\n",
       "      <td>7</td>\n",
       "      <td>2</td>\n",
       "      <td>3</td>\n",
       "      <td>3</td>\n",
       "      <td>3</td>\n",
       "      <td>3</td>\n",
       "      <td>3</td>\n",
       "      <td>5</td>\n",
       "      <td>7</td>\n",
       "      <td>7</td>\n",
       "      <td>7</td>\n",
       "      <td>6</td>\n",
       "    </tr>\n",
       "    <tr>\n",
       "      <th>Val_3_Errors</th>\n",
       "      <td>7</td>\n",
       "      <td>3</td>\n",
       "      <td>3</td>\n",
       "      <td>4</td>\n",
       "      <td>4</td>\n",
       "      <td>7</td>\n",
       "      <td>5</td>\n",
       "      <td>5</td>\n",
       "      <td>7</td>\n",
       "      <td>8</td>\n",
       "      <td>7</td>\n",
       "      <td>8</td>\n",
       "    </tr>\n",
       "    <tr>\n",
       "      <th>Val_4_Errors</th>\n",
       "      <td>9</td>\n",
       "      <td>6</td>\n",
       "      <td>3</td>\n",
       "      <td>2</td>\n",
       "      <td>5</td>\n",
       "      <td>5</td>\n",
       "      <td>6</td>\n",
       "      <td>6</td>\n",
       "      <td>8</td>\n",
       "      <td>7</td>\n",
       "      <td>11</td>\n",
       "      <td>11</td>\n",
       "    </tr>\n",
       "    <tr>\n",
       "      <th>Val_5_Errors</th>\n",
       "      <td>8</td>\n",
       "      <td>5</td>\n",
       "      <td>8</td>\n",
       "      <td>10</td>\n",
       "      <td>10</td>\n",
       "      <td>9</td>\n",
       "      <td>7</td>\n",
       "      <td>7</td>\n",
       "      <td>8</td>\n",
       "      <td>9</td>\n",
       "      <td>10</td>\n",
       "      <td>11</td>\n",
       "    </tr>\n",
       "    <tr>\n",
       "      <th>Total_Errors</th>\n",
       "      <td>39</td>\n",
       "      <td>22</td>\n",
       "      <td>21</td>\n",
       "      <td>23</td>\n",
       "      <td>27</td>\n",
       "      <td>29</td>\n",
       "      <td>27</td>\n",
       "      <td>30</td>\n",
       "      <td>36</td>\n",
       "      <td>37</td>\n",
       "      <td>43</td>\n",
       "      <td>44</td>\n",
       "    </tr>\n",
       "  </tbody>\n",
       "</table>\n",
       "</div>"
      ],
      "text/plain": [
       "              1   3   5   7   9   11  13  15  17  19  21  23\n",
       "Val_1_Errors   8   6   4   4   5   5   6   7   6   6   8   8\n",
       "Val_2_Errors   7   2   3   3   3   3   3   5   7   7   7   6\n",
       "Val_3_Errors   7   3   3   4   4   7   5   5   7   8   7   8\n",
       "Val_4_Errors   9   6   3   2   5   5   6   6   8   7  11  11\n",
       "Val_5_Errors   8   5   8  10  10   9   7   7   8   9  10  11\n",
       "Total_Errors  39  22  21  23  27  29  27  30  36  37  43  44"
      ]
     },
     "execution_count": 31,
     "metadata": {},
     "output_type": "execute_result"
    }
   ],
   "source": [
    "res"
   ]
  },
  {
   "cell_type": "code",
   "execution_count": 32,
   "metadata": {},
   "outputs": [],
   "source": [
    "x = list(res.columns)\n",
    "y = (1 - (res.loc['Total_Errors'] / 85)) * 100"
   ]
  },
  {
   "cell_type": "code",
   "execution_count": 33,
   "metadata": {},
   "outputs": [
    {
     "data": {
      "text/plain": [
       "[<matplotlib.lines.Line2D at 0x1655374b7f0>]"
      ]
     },
     "execution_count": 33,
     "metadata": {},
     "output_type": "execute_result"
    },
    {
     "data": {
      "image/png": "[encoded data removed]",
      "text/plain": [
       "<Figure size 432x288 with 1 Axes>"
      ]
     },
     "metadata": {
      "needs_background": "light"
     },
     "output_type": "display_data"
    }
   ],
   "source": [
    "plt.xlabel('Number of Neighbors')\n",
    "plt.ylabel('Cross Validated Accuracy')\n",
    "plt.plot(x, y, marker = 'o')"
   ]
  },
  {
   "cell_type": "code",
   "execution_count": 34,
   "metadata": {},
   "outputs": [],
   "source": [
    "test['Predicted'] = KNearestNeighbors(train, test, k = 5)"
   ]
  },
  {
   "cell_type": "code",
   "execution_count": 35,
   "metadata": {},
   "outputs": [],
   "source": [
    "tp = len(test[(test['Predicted'] == 1) & (test['Value'] == 1)])\n",
    "tn = len(test[(test['Predicted'] == 0) & (test['Value'] == 0)])\n",
    "fp = len(test[(test['Predicted'] == 1) & (test['Value'] == 0)])\n",
    "fn = len(test[(test['Predicted'] == 0) & (test['Value'] == 1)])"
   ]
  },
  {
   "cell_type": "code",
   "execution_count": 36,
   "metadata": {},
   "outputs": [],
   "source": [
    "confusion_matrix = pd.DataFrame(columns = ['Actual 1', 'Actual 0'])"
   ]
  },
  {
   "cell_type": "code",
   "execution_count": 37,
   "metadata": {},
   "outputs": [],
   "source": [
    "confusion_matrix.loc['Predicted 1', 'Actual 1'] = len(test[(test['Predicted'] == 1) & (test['Value'] == 1)])\n",
    "confusion_matrix.loc['Predicted 0', 'Actual 0'] = len(test[(test['Predicted'] == 0) & (test['Value'] == 0)])\n",
    "confusion_matrix.loc['Predicted 1', 'Actual 0'] = len(test[(test['Predicted'] == 1) & (test['Value'] == 0)])\n",
    "confusion_matrix.loc['Predicted 0', 'Actual 1'] = len(test[(test['Predicted'] == 0) & (test['Value'] == 1)])"
   ]
  },
  {
   "cell_type": "code",
   "execution_count": 38,
   "metadata": {},
   "outputs": [
    {
     "data": {
      "text/html": [
       "<div>\n",
       "<style scoped>\n",
       "    .dataframe tbody tr th:only-of-type {\n",
       "        vertical-align: middle;\n",
       "    }\n",
       "\n",
       "    .dataframe tbody tr th {\n",
       "        vertical-align: top;\n",
       "    }\n",
       "\n",
       "    .dataframe thead th {\n",
       "        text-align: right;\n",
       "    }\n",
       "</style>\n",
       "<table border=\"1\" class=\"dataframe\">\n",
       "  <thead>\n",
       "    <tr style=\"text-align: right;\">\n",
       "      <th></th>\n",
       "      <th>Actual 1</th>\n",
       "      <th>Actual 0</th>\n",
       "    </tr>\n",
       "  </thead>\n",
       "  <tbody>\n",
       "    <tr>\n",
       "      <th>Predicted 1</th>\n",
       "      <td>10</td>\n",
       "      <td>6</td>\n",
       "    </tr>\n",
       "    <tr>\n",
       "      <th>Predicted 0</th>\n",
       "      <td>7</td>\n",
       "      <td>10</td>\n",
       "    </tr>\n",
       "  </tbody>\n",
       "</table>\n",
       "</div>"
      ],
      "text/plain": [
       "            Actual 1 Actual 0\n",
       "Predicted 1       10        6\n",
       "Predicted 0        7       10"
      ]
     },
     "execution_count": 38,
     "metadata": {},
     "output_type": "execute_result"
    }
   ],
   "source": [
    "confusion_matrix"
   ]
  },
  {
   "cell_type": "code",
   "execution_count": 39,
   "metadata": {},
   "outputs": [],
   "source": [
    "accuracy = (tp + tn) / (tp+fp+tn+fn)\n",
    "precision = tp / (tp+fp)\n",
    "recall = tp / (tp+fn)\n",
    "temp = (1/recall) + (1/precision)\n",
    "f1_score = 2 * (1 / temp)"
   ]
  },
  {
   "cell_type": "code",
   "execution_count": 42,
   "metadata": {},
   "outputs": [
    {
     "name": "stdout",
     "output_type": "stream",
     "text": [
      "Accuracy: 0.61\n",
      "Precision: 0.62\n",
      "Recall: 0.59\n",
      "f1_score: 0.61\n"
     ]
    }
   ],
   "source": [
    "print(\"Accuracy:\",round(accuracy, 2))\n",
    "print(\"Precision:\",round(precision, 2))\n",
    "print(\"Recall:\",round(recall, 2))\n",
    "print(\"f1_score:\",round(f1_score, 2))"
   ]
  },
  {
   "cell_type": "code",
   "execution_count": null,
   "metadata": {},
   "outputs": [],
   "source": []
  }
 ],
 "metadata": {
  "kernelspec": {
   "display_name": "Python 3",
   "language": "python",
   "name": "python3"
  },
  "language_info": {
   "codemirror_mode": {
    "name": "ipython",
    "version": 3
   },
   "file_extension": ".py",
   "mimetype": "text/x-python",
   "name": "python",
   "nbconvert_exporter": "python",
   "pygments_lexer": "ipython3",
   "version": "3.8.3"
  }
 },
 "nbformat": 4,
 "nbformat_minor": 4
}
