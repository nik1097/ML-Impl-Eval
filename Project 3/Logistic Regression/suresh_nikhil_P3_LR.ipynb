{
 "cells": [
  {
   "cell_type": "code",
   "execution_count": 72,
   "metadata": {},
   "outputs": [],
   "source": [
    "import numpy as np\n",
    "import matplotlib.pyplot as plt\n",
    "%matplotlib inline\n",
    "import pandas as pd"
   ]
  },
  {
   "cell_type": "code",
   "execution_count": 73,
   "metadata": {},
   "outputs": [],
   "source": [
    "def sigmoid(z):\n",
    "    return 1 / (1 + np.exp(-z))\n",
    "\n",
    "def calculate_cost(w, X, y):\n",
    "    m = X.shape[0]\n",
    "    J = - (1 / m) * (np.log(sigmoid(X * w)).T * y + np.log(1 - sigmoid(X * w)).T * (1 - y))\n",
    "    return J\n",
    "\n",
    "def gradient_descent(initial_w, X, y, alpha = 0.1, maxiter = 10000):\n",
    "    m = X.shape[0]\n",
    "    x_axis = []\n",
    "    i = 0\n",
    "    w = initial_w\n",
    "    costs = []\n",
    "    while i < maxiter:\n",
    "        w = w - (alpha / m) * X.T * (sigmoid(X * w) - y)\n",
    "        cost = calculate_cost(w, X, y)\n",
    "        costs.append(float(cost))\n",
    "        x_axis.append(i)\n",
    "        i = i+1\n",
    "    return w, costs, x_axis"
   ]
  },
  {
   "cell_type": "markdown",
   "metadata": {},
   "source": [
    "### Altering the dataset to better fit the Logistic Regression Model"
   ]
  },
  {
   "cell_type": "code",
   "execution_count": 74,
   "metadata": {},
   "outputs": [
    {
     "name": "stdout",
     "output_type": "stream",
     "text": [
      "Enter the name of the Training File: P3train.txt\n",
      "Enter the name of the Testing File: P3test.txt\n"
     ]
    }
   ],
   "source": [
    "filename = input('Enter the name of the Training File: ')\n",
    "#filename = 'P3train.txt'\n",
    "train = pd.read_csv(filename, sep = '\\t', skiprows=1, names = ['Test1', 'Test2', 'Value','Random'])\n",
    "train = train[['Test1', 'Test2', 'Value']]\n",
    "\n",
    "filename = input('Enter the name of the Testing File: ')\n",
    "#filename = 'P3test.txt'\n",
    "test = pd.read_csv(filename, sep = '\\t', skiprows=1, names = ['Test1', 'Test2', 'Value','Random'])\n",
    "test = test[['Test1', 'Test2', 'Value']]"
   ]
  },
  {
   "cell_type": "code",
   "execution_count": 75,
   "metadata": {},
   "outputs": [],
   "source": [
    "i = 2\n",
    "temp_train = train.iloc[:,0:1] ** i\n",
    "temp_test = test.iloc[:,0:1] ** i\n",
    "\n",
    "train.insert(i-1, 'x1^2', temp_train)\n",
    "test.insert(i-1, 'x1^2', temp_test)\n",
    "\n",
    "temp1_train = train.iloc[:,1:2] ** i\n",
    "temp1_test = test.iloc[:,1:2] ** i\n",
    "\n",
    "train.insert(i-1, 'x2^2', temp1_train)\n",
    "test.insert(i-1, 'x2^2', temp1_test)\n",
    "\n",
    "train.insert(i-1, 'x1^2.x2^2', (train['x1^2'] * train['x2^2']))\n",
    "test.insert(i-1, 'x1^2.x2^2', (test['x1^2'] * test['x2^2']))\n",
    "\n",
    "X_train = train.iloc[ : , :-1].values \n",
    "y_train = train.iloc[ : , -1:].values\n",
    "\n",
    "val_1 = np.ones(shape = y_train.shape) \n",
    "X_train = np.concatenate((val_1, X_train), 1)\n",
    "\n",
    "initial_w = np.matrix([np.zeros(X_train.shape[1])]).T"
   ]
  },
  {
   "cell_type": "code",
   "execution_count": 76,
   "metadata": {},
   "outputs": [],
   "source": [
    "X_test = test.iloc[:, :-1].values\n",
    "y_test = test.iloc[ : , -1:].values\n",
    "\n",
    "val_1 = np.ones(shape = y_test.shape)\n",
    "X_test = np.concatenate((val_1, X_test), 1)"
   ]
  },
  {
   "cell_type": "code",
   "execution_count": 77,
   "metadata": {},
   "outputs": [],
   "source": [
    "w, costs, x_axis = gradient_descent(initial_w, X_train, y_train, alpha = 0.01, maxiter = 50000)"
   ]
  },
  {
   "cell_type": "code",
   "execution_count": 78,
   "metadata": {},
   "outputs": [
    {
     "data": {
      "text/plain": [
       "[<matplotlib.lines.Line2D at 0x1acba1b71c0>]"
      ]
     },
     "execution_count": 78,
     "metadata": {},
     "output_type": "execute_result"
    },
    {
     "data": {
      "image/png": "[encoded data removed]",
      "text/plain": [
       "<Figure size 432x288 with 1 Axes>"
      ]
     },
     "metadata": {
      "needs_background": "light"
     },
     "output_type": "display_data"
    }
   ],
   "source": [
    "plt.xlabel('Number of Iterations')\n",
    "plt.ylabel('Values of J')\n",
    "plt.title('Cost Value vs Iterations')\n",
    "plt.plot(x_axis, costs)"
   ]
  },
  {
   "cell_type": "code",
   "execution_count": 79,
   "metadata": {},
   "outputs": [],
   "source": [
    "y_pred = sigmoid(np.dot(w.T, X_test.T))"
   ]
  },
  {
   "cell_type": "code",
   "execution_count": 80,
   "metadata": {},
   "outputs": [],
   "source": [
    "result_df = pd.DataFrame(columns= ['y_test', 'y_pred', 'label_y_pred'])\n",
    "result_df['y_test'] = [i[0] for i in y_test]\n",
    "result_df['y_pred'] = y_pred.tolist()[0]\n",
    "mask = (result_df.y_pred >= 0.5)\n",
    "result_df.loc[mask,'label_y_pred'] = 1\n",
    "mask = (result_df.y_pred < 0.5)\n",
    "result_df.loc[mask,'label_y_pred'] = 0"
   ]
  },
  {
   "cell_type": "code",
   "execution_count": 81,
   "metadata": {},
   "outputs": [],
   "source": [
    "tp = len(result_df[(result_df['label_y_pred'] == 1) & (result_df['y_test'] == 1)])\n",
    "tn = len(result_df[(result_df['label_y_pred'] == 0) & (result_df['y_test'] == 0)])\n",
    "fp = len(result_df[(result_df['label_y_pred'] == 1) & (result_df['y_test'] == 0)])\n",
    "fn = len(result_df[(result_df['label_y_pred'] == 0) & (result_df['y_test'] == 1)])"
   ]
  },
  {
   "cell_type": "code",
   "execution_count": 82,
   "metadata": {},
   "outputs": [],
   "source": [
    "confusion_matrix = pd.DataFrame(columns = ['Actual 1', 'Actual 0'])\n",
    "confusion_matrix.loc['Predicted 1', 'Actual 1'] = tp\n",
    "confusion_matrix.loc['Predicted 0', 'Actual 0'] = tn\n",
    "confusion_matrix.loc['Predicted 1', 'Actual 0'] = fp\n",
    "confusion_matrix.loc['Predicted 0', 'Actual 1'] = fn"
   ]
  },
  {
   "cell_type": "code",
   "execution_count": 83,
   "metadata": {},
   "outputs": [
    {
     "data": {
      "text/html": [
       "<div>\n",
       "<style scoped>\n",
       "    .dataframe tbody tr th:only-of-type {\n",
       "        vertical-align: middle;\n",
       "    }\n",
       "\n",
       "    .dataframe tbody tr th {\n",
       "        vertical-align: top;\n",
       "    }\n",
       "\n",
       "    .dataframe thead th {\n",
       "        text-align: right;\n",
       "    }\n",
       "</style>\n",
       "<table border=\"1\" class=\"dataframe\">\n",
       "  <thead>\n",
       "    <tr style=\"text-align: right;\">\n",
       "      <th></th>\n",
       "      <th>Actual 1</th>\n",
       "      <th>Actual 0</th>\n",
       "    </tr>\n",
       "  </thead>\n",
       "  <tbody>\n",
       "    <tr>\n",
       "      <th>Predicted 1</th>\n",
       "      <td>14</td>\n",
       "      <td>4</td>\n",
       "    </tr>\n",
       "    <tr>\n",
       "      <th>Predicted 0</th>\n",
       "      <td>3</td>\n",
       "      <td>12</td>\n",
       "    </tr>\n",
       "  </tbody>\n",
       "</table>\n",
       "</div>"
      ],
      "text/plain": [
       "            Actual 1 Actual 0\n",
       "Predicted 1       14        4\n",
       "Predicted 0        3       12"
      ]
     },
     "execution_count": 83,
     "metadata": {},
     "output_type": "execute_result"
    }
   ],
   "source": [
    "confusion_matrix"
   ]
  },
  {
   "cell_type": "code",
   "execution_count": 84,
   "metadata": {},
   "outputs": [],
   "source": [
    "accuracy = (tp + tn) / (tp+fp+tn+fn)\n",
    "precision = tp / (tp+fp)\n",
    "recall = tp / (tp+fn)\n",
    "temp = (1/recall) + (1/precision)\n",
    "f1_score = 2 * (1 / temp)"
   ]
  },
  {
   "cell_type": "code",
   "execution_count": 85,
   "metadata": {},
   "outputs": [
    {
     "name": "stdout",
     "output_type": "stream",
     "text": [
      "Accuracy: 0.79\n",
      "Precision: 0.78\n",
      "Recall: 0.82\n",
      "f1_score: 0.8\n"
     ]
    }
   ],
   "source": [
    "print(\"Accuracy:\",round(accuracy, 2))\n",
    "print(\"Precision:\",round(precision, 2))\n",
    "print(\"Recall:\",round(recall, 2))\n",
    "print(\"f1_score:\",round(f1_score, 2))"
   ]
  },
  {
   "cell_type": "code",
   "execution_count": 86,
   "metadata": {},
   "outputs": [
    {
     "name": "stdout",
     "output_type": "stream",
     "text": [
      "Initial Cost Function Value\n",
      " 0.6931164119203648\n"
     ]
    }
   ],
   "source": [
    "print(\"Initial Cost Function Value\\n\", costs[0])"
   ]
  },
  {
   "cell_type": "code",
   "execution_count": 87,
   "metadata": {},
   "outputs": [
    {
     "name": "stdout",
     "output_type": "stream",
     "text": [
      "Final Cost Function Value\n",
      " 0.6208088687229996\n"
     ]
    }
   ],
   "source": [
    "print(\"Final Cost Function Value\\n\", costs[-1])"
   ]
  },
  {
   "cell_type": "code",
   "execution_count": 88,
   "metadata": {},
   "outputs": [
    {
     "data": {
      "text/plain": [
       "matrix([[ 0.6127617 ],\n",
       "        [ 0.85311389],\n",
       "        [-1.60197502],\n",
       "        [-2.01023484],\n",
       "        [-2.0881704 ],\n",
       "        [-0.11393043]])"
      ]
     },
     "execution_count": 88,
     "metadata": {},
     "output_type": "execute_result"
    }
   ],
   "source": [
    "w"
   ]
  },
  {
   "cell_type": "code",
   "execution_count": 89,
   "metadata": {},
   "outputs": [
    {
     "name": "stdout",
     "output_type": "stream",
     "text": [
      "Cost function value for test:  [[0.55354638]]\n"
     ]
    }
   ],
   "source": [
    "print('Cost function value for test: ',calculate_cost(w, X_test, y_test))"
   ]
  },
  {
   "cell_type": "code",
   "execution_count": 90,
   "metadata": {},
   "outputs": [],
   "source": [
    "train.to_csv('suresh_nikhil_P3Train.txt', sep = '\\t', index = False)\n",
    "test.to_csv('suresh_nikhil_P3Test.txt', sep = '\\t', index = False)"
   ]
  },
  {
   "cell_type": "code",
   "execution_count": null,
   "metadata": {},
   "outputs": [],
   "source": []
  }
 ],
 "metadata": {
  "kernelspec": {
   "display_name": "Python 3",
   "language": "python",
   "name": "python3"
  },
  "language_info": {
   "codemirror_mode": {
    "name": "ipython",
    "version": 3
   },
   "file_extension": ".py",
   "mimetype": "text/x-python",
   "name": "python",
   "nbconvert_exporter": "python",
   "pygments_lexer": "ipython3",
   "version": "3.8.3"
  }
 },
 "nbformat": 4,
 "nbformat_minor": 4
}
