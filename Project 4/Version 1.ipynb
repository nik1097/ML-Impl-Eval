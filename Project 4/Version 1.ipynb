{
 "cells": [
  {
   "cell_type": "code",
   "execution_count": 1,
   "metadata": {},
   "outputs": [],
   "source": [
    "import pandas as pd\n",
    "import matplotlib.pyplot as plt\n",
    "import numpy as np"
   ]
  },
  {
   "cell_type": "code",
   "execution_count": 2,
   "metadata": {},
   "outputs": [],
   "source": [
    "df = pd.read_csv('P4Data.txt', delimiter='\\t')\n",
    "centroids = pd.read_csv('P4Centroids.txt', delimiter='\\t')"
   ]
  },
  {
   "cell_type": "code",
   "execution_count": 3,
   "metadata": {},
   "outputs": [],
   "source": [
    "centroids= centroids.reset_index()"
   ]
  },
  {
   "cell_type": "code",
   "execution_count": 4,
   "metadata": {},
   "outputs": [],
   "source": [
    "df.columns = ['x', 'y']\n",
    "centroids.columns = ['x','y']"
   ]
  },
  {
   "cell_type": "code",
   "execution_count": 5,
   "metadata": {},
   "outputs": [
    {
     "data": {
      "text/plain": [
       "<matplotlib.collections.PathCollection at 0x1fdce507bb0>"
      ]
     },
     "execution_count": 5,
     "metadata": {},
     "output_type": "execute_result"
    },
    {
     "data": {
      "image/png": "[encoded data removed]",
      "text/plain": [
       "<Figure size 432x288 with 1 Axes>"
      ]
     },
     "metadata": {
      "needs_background": "light"
     },
     "output_type": "display_data"
    }
   ],
   "source": [
    "colormap = np.array(['red', 'green'])\n",
    "fig, ax = plt.subplots()\n",
    "ax.scatter(df['x'], df['y'])\n",
    "ax.scatter(centroids['x'], centroids['y'], c=colormap, marker = '^')"
   ]
  },
  {
   "cell_type": "code",
   "execution_count": 6,
   "metadata": {},
   "outputs": [],
   "source": [
    "c1 = list(centroids.iloc[0])\n",
    "c2 = list(centroids.iloc[1])"
   ]
  },
  {
   "cell_type": "code",
   "execution_count": 7,
   "metadata": {},
   "outputs": [],
   "source": [
    "def calculate_centroid(c1, c2):    \n",
    "    dist_cen_1 = np.sqrt((df['x'] - c1[0]) ** 2 + (df['y'] - c1[1]) ** 2)\n",
    "    dist_cen_2 = np.sqrt((df['x'] - c2[0]) ** 2 + (df['y'] - c2[1]) ** 2)\n",
    "    \n",
    "    conditions = [\n",
    "        dist_cen_1 < dist_cen_2, \n",
    "        dist_cen_1 > dist_cen_2]\n",
    "\n",
    "    choices = ['cluster1', 'cluster2']\n",
    "\n",
    "    df['cluster'] = np.select(conditions, choices, default=np.nan)\n",
    "    df_c1 = df[df['cluster'] == 'cluster1']\n",
    "    df_c2 = df[df['cluster'] == 'cluster2']\n",
    "    \n",
    "    cost = ((np.sqrt((df_c1['x'] - c1[0]) ** 2 + (df['y'] - c1[1]) ** 2)).sum() + (np.sqrt((df_c2['x'] - c2[0]) ** 2 + (df['y'] - c2[1]) ** 2)).sum())/len(df)\n",
    "    print(\"Cost function value: \", cost)\n",
    "    \n",
    "    new_c1 = [0, 0]\n",
    "    new_c2 = [0, 0]\n",
    "    \n",
    "    new_c1[0], new_c1[1] = round(sum(df_c1['x']) / len(df_c1), 4), round(sum(df_c1['y']) / len(df_c1), 4)\n",
    "    new_c2[0], new_c2[1] = round(sum(df_c2['x']) / len(df_c2), 4), round(sum(df_c2['y']) / len(df_c2), 4)\n",
    "    \n",
    "    fig, ax = plt.subplots()\n",
    "    ax.scatter(df_c1['x'], df_c1['y'], c = 'red')\n",
    "    ax.scatter(df_c2['x'], df_c2['y'], c = 'green')  \n",
    "    ax.scatter([new_c1[0], new_c2[0]], [new_c1[1], new_c2[1]], c=colormap, marker = '^', s = 150)\n",
    "    \n",
    "    return new_c1, new_c2"
   ]
  },
  {
   "cell_type": "code",
   "execution_count": 8,
   "metadata": {},
   "outputs": [
    {
     "name": "stdout",
     "output_type": "stream",
     "text": [
      "Cost function value:  1.3193958656585483\n",
      "Cost function value:  0.4769219365027512\n",
      "Returned Centroids:  [6.0267, 2.7911] [5.0164, 3.3418]\n"
     ]
    },
    {
     "data": {
      "image/png": "[encoded data removed]",
      "text/plain": [
       "<Figure size 432x288 with 1 Axes>"
      ]
     },
     "metadata": {
      "needs_background": "light"
     },
     "output_type": "display_data"
    },
    {
     "data": {
      "image/png": "[encoded data removed]",
      "text/plain": [
       "<Figure size 432x288 with 1 Axes>"
      ]
     },
     "metadata": {
      "needs_background": "light"
     },
     "output_type": "display_data"
    }
   ],
   "source": [
    "count = 0\n",
    "new_c1, new_c2 = calculate_centroid(c1, c2)\n",
    "while True:\n",
    "    if new_c1 == c1 and new_c2 == c2:\n",
    "        print('Returned Centroids: ', new_c1, new_c2)\n",
    "        break\n",
    "    else:\n",
    "        c1, c2 = new_c1, new_c2\n",
    "        new_c1, new_c2 = calculate_centroid(new_c1, new_c2)        "
   ]
  },
  {
   "cell_type": "code",
   "execution_count": 9,
   "metadata": {},
   "outputs": [
    {
     "data": {
      "text/plain": [
       "[6.0267, 2.7911]"
      ]
     },
     "execution_count": 9,
     "metadata": {},
     "output_type": "execute_result"
    }
   ],
   "source": [
    "new_c1"
   ]
  },
  {
   "cell_type": "code",
   "execution_count": 10,
   "metadata": {},
   "outputs": [
    {
     "data": {
      "text/plain": [
       "[5.0164, 3.3418]"
      ]
     },
     "execution_count": 10,
     "metadata": {},
     "output_type": "execute_result"
    }
   ],
   "source": [
    "new_c2"
   ]
  },
  {
   "cell_type": "code",
   "execution_count": null,
   "metadata": {},
   "outputs": [],
   "source": []
  }
 ],
 "metadata": {
  "kernelspec": {
   "display_name": "Python 3",
   "language": "python",
   "name": "python3"
  },
  "language_info": {
   "codemirror_mode": {
    "name": "ipython",
    "version": 3
   },
   "file_extension": ".py",
   "mimetype": "text/x-python",
   "name": "python",
   "nbconvert_exporter": "python",
   "pygments_lexer": "ipython3",
   "version": "3.8.3"
  }
 },
 "nbformat": 4,
 "nbformat_minor": 4
}
